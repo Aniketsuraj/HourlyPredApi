{
 "cells": [
  {
   "cell_type": "code",
   "execution_count": 76,
   "id": "323e6785-7f1e-4873-825c-03ad9378b135",
   "metadata": {},
   "outputs": [],
   "source": [
    "l1 = [{'sensor_id': '634e7c43038801.39310596', 'read_time': '2024-01-10 00:00:00', 'raw_data': '2024-01-10 00:00:00.0,6662.0,6688.0,6638.0,10.3,10.57,9.200000000000001,99900.0,0.0,99900.0,0.0,100000.0,0.0,99800.0,4800.0,0.0,100000.0'},{'sensor_id': '634e7c43038801.000000000', 'read_time': '2024-01-10 00:00:00', 'raw_data': '2024-01-10 00:00:00.0,6662.0,6688.0,6638.0,10.3,10.57,9.200000000000001,99900.0,0.0,99900.0,0.0,100000.0,0.0,99800.0,4800.0,0.0,100000.0'},{'sensor_id': '634e7c43038801.11111111', 'read_time': '2024-01-10 00:00:00', 'raw_data': '2024-01-10 00:00:00.0,6662.0,6688.0,6638.0,10.3,10.57,9.200000000000001,99900.0,0.0,99900.0,0.0,100000.0,0.0,99800.0,4800.0,0.0,100000.0'},{'sensor_id': '634e7c43038801.39310596', 'read_time': '2024-01-10 00:00:00', 'raw_data': '2024-01-10 00:00:00.0,6662.0,6688.0,6638.0,10.3,10.57,9.200000000000001,99900.0,0.0,99900.0,0.0,100000.0,0.0,99800.0,4800.0,0.0,100000.0'}]"
   ]
  },
  {
   "cell_type": "code",
   "execution_count": 77,
   "id": "6499079c-46a6-4ba7-83d3-4f92e25939f3",
   "metadata": {},
   "outputs": [
    {
     "data": {
      "text/plain": [
       "4"
      ]
     },
     "execution_count": 77,
     "metadata": {},
     "output_type": "execute_result"
    }
   ],
   "source": [
    "len(l1)"
   ]
  },
  {
   "cell_type": "code",
   "execution_count": 78,
   "id": "caa57473-c321-4e27-996b-c64af084e19f",
   "metadata": {},
   "outputs": [],
   "source": [
    "import pandas as pd\n",
    "columns = ['sensor', 'Clock', 'R_Voltage', 'Y_Voltage', 'B_Voltage', 'R_Current', 'Y_Current',\n",
    "                   'B_Current', 'A', 'BlockEnergy-WhExp', 'B', 'C', 'D', 'BlockEnergy-VAhExp',\n",
    "                   'Kwh', 'BlockEnergy-VArhQ1', 'BlockEnergy-VArhQ4', 'BlockEnergy-VAhImp']"
   ]
  },
  {
   "cell_type": "code",
   "execution_count": 79,
   "id": "c56de4d2-16df-4c06-9d64-d4bf1b9a8019",
   "metadata": {},
   "outputs": [],
   "source": [
    "# # for items in l1:\n",
    "# #    pass\n",
    "# datalist = [(items['sensor_id'], items['raw_data']) for i in range(len(l1)) ]\n",
    "# print(datalist)\n",
    "# df = pd.DataFrame([row[0].split(',') + row[1].split(',') for row in datalist], columns=columns)\n",
    "# df\n"
   ]
  },
  {
   "cell_type": "code",
   "execution_count": 85,
   "id": "14a77f7c-d407-4452-9676-cafaad2d3784",
   "metadata": {},
   "outputs": [
    {
     "name": "stdout",
     "output_type": "stream",
     "text": [
      "                     sensor                  Clock R_Voltage Y_Voltage  \\\n",
      "0   634e7c43038801.39310596  2024-01-10 00:00:00.0    6662.0    6688.0   \n",
      "1  634e7c43038801.000000000  2024-01-10 00:00:00.0    6662.0    6688.0   \n",
      "2   634e7c43038801.11111111  2024-01-10 00:00:00.0    6662.0    6688.0   \n",
      "3   634e7c43038801.39310596  2024-01-10 00:00:00.0    6662.0    6688.0   \n",
      "\n",
      "  B_Voltage R_Current Y_Current          B_Current        A BlockEnergy-WhExp  \\\n",
      "0    6638.0      10.3     10.57  9.200000000000001  99900.0               0.0   \n",
      "1    6638.0      10.3     10.57  9.200000000000001  99900.0               0.0   \n",
      "2    6638.0      10.3     10.57  9.200000000000001  99900.0               0.0   \n",
      "3    6638.0      10.3     10.57  9.200000000000001  99900.0               0.0   \n",
      "\n",
      "         B    C         D BlockEnergy-VAhExp      Kwh BlockEnergy-VArhQ1  \\\n",
      "0  99900.0  0.0  100000.0                0.0  99800.0             4800.0   \n",
      "1  99900.0  0.0  100000.0                0.0  99800.0             4800.0   \n",
      "2  99900.0  0.0  100000.0                0.0  99800.0             4800.0   \n",
      "3  99900.0  0.0  100000.0                0.0  99800.0             4800.0   \n",
      "\n",
      "  BlockEnergy-VArhQ4 BlockEnergy-VAhImp  \n",
      "0                0.0           100000.0  \n",
      "1                0.0           100000.0  \n",
      "2                0.0           100000.0  \n",
      "3                0.0           100000.0  \n"
     ]
    }
   ],
   "source": [
    "datalist = [{'sensor': entry['sensor_id'], **dict(zip(columns[1:], entry['raw_data'].split(',')))} for entry in l1]\n",
    "\n",
    "# Create DataFrame using the list of dictionaries and set columns\n",
    "df = pd.DataFrame(datalist, columns=columns)\n",
    "\n",
    "# Print the DataFrame\n",
    "print(df)"
   ]
  },
  {
   "cell_type": "code",
   "execution_count": 86,
   "id": "6da9be91-51c6-496f-ba54-c7b8e04de096",
   "metadata": {},
   "outputs": [
    {
     "data": {
      "text/html": [
       "<div>\n",
       "<style scoped>\n",
       "    .dataframe tbody tr th:only-of-type {\n",
       "        vertical-align: middle;\n",
       "    }\n",
       "\n",
       "    .dataframe tbody tr th {\n",
       "        vertical-align: top;\n",
       "    }\n",
       "\n",
       "    .dataframe thead th {\n",
       "        text-align: right;\n",
       "    }\n",
       "</style>\n",
       "<table border=\"1\" class=\"dataframe\">\n",
       "  <thead>\n",
       "    <tr style=\"text-align: right;\">\n",
       "      <th></th>\n",
       "      <th>sensor</th>\n",
       "      <th>Clock</th>\n",
       "      <th>R_Voltage</th>\n",
       "      <th>Y_Voltage</th>\n",
       "      <th>B_Voltage</th>\n",
       "      <th>R_Current</th>\n",
       "      <th>Y_Current</th>\n",
       "      <th>B_Current</th>\n",
       "      <th>A</th>\n",
       "      <th>BlockEnergy-WhExp</th>\n",
       "      <th>B</th>\n",
       "      <th>C</th>\n",
       "      <th>D</th>\n",
       "      <th>BlockEnergy-VAhExp</th>\n",
       "      <th>Kwh</th>\n",
       "      <th>BlockEnergy-VArhQ1</th>\n",
       "      <th>BlockEnergy-VArhQ4</th>\n",
       "      <th>BlockEnergy-VAhImp</th>\n",
       "    </tr>\n",
       "  </thead>\n",
       "  <tbody>\n",
       "    <tr>\n",
       "      <th>0</th>\n",
       "      <td>634e7c43038801.39310596</td>\n",
       "      <td>2024-01-10 00:00:00.0</td>\n",
       "      <td>6662.0</td>\n",
       "      <td>6688.0</td>\n",
       "      <td>6638.0</td>\n",
       "      <td>10.3</td>\n",
       "      <td>10.57</td>\n",
       "      <td>9.200000000000001</td>\n",
       "      <td>99900.0</td>\n",
       "      <td>0.0</td>\n",
       "      <td>99900.0</td>\n",
       "      <td>0.0</td>\n",
       "      <td>100000.0</td>\n",
       "      <td>0.0</td>\n",
       "      <td>99800.0</td>\n",
       "      <td>4800.0</td>\n",
       "      <td>0.0</td>\n",
       "      <td>100000.0</td>\n",
       "    </tr>\n",
       "    <tr>\n",
       "      <th>1</th>\n",
       "      <td>634e7c43038801.000000000</td>\n",
       "      <td>2024-01-10 00:00:00.0</td>\n",
       "      <td>6662.0</td>\n",
       "      <td>6688.0</td>\n",
       "      <td>6638.0</td>\n",
       "      <td>10.3</td>\n",
       "      <td>10.57</td>\n",
       "      <td>9.200000000000001</td>\n",
       "      <td>99900.0</td>\n",
       "      <td>0.0</td>\n",
       "      <td>99900.0</td>\n",
       "      <td>0.0</td>\n",
       "      <td>100000.0</td>\n",
       "      <td>0.0</td>\n",
       "      <td>99800.0</td>\n",
       "      <td>4800.0</td>\n",
       "      <td>0.0</td>\n",
       "      <td>100000.0</td>\n",
       "    </tr>\n",
       "    <tr>\n",
       "      <th>2</th>\n",
       "      <td>634e7c43038801.11111111</td>\n",
       "      <td>2024-01-10 00:00:00.0</td>\n",
       "      <td>6662.0</td>\n",
       "      <td>6688.0</td>\n",
       "      <td>6638.0</td>\n",
       "      <td>10.3</td>\n",
       "      <td>10.57</td>\n",
       "      <td>9.200000000000001</td>\n",
       "      <td>99900.0</td>\n",
       "      <td>0.0</td>\n",
       "      <td>99900.0</td>\n",
       "      <td>0.0</td>\n",
       "      <td>100000.0</td>\n",
       "      <td>0.0</td>\n",
       "      <td>99800.0</td>\n",
       "      <td>4800.0</td>\n",
       "      <td>0.0</td>\n",
       "      <td>100000.0</td>\n",
       "    </tr>\n",
       "    <tr>\n",
       "      <th>3</th>\n",
       "      <td>634e7c43038801.39310596</td>\n",
       "      <td>2024-01-10 00:00:00.0</td>\n",
       "      <td>6662.0</td>\n",
       "      <td>6688.0</td>\n",
       "      <td>6638.0</td>\n",
       "      <td>10.3</td>\n",
       "      <td>10.57</td>\n",
       "      <td>9.200000000000001</td>\n",
       "      <td>99900.0</td>\n",
       "      <td>0.0</td>\n",
       "      <td>99900.0</td>\n",
       "      <td>0.0</td>\n",
       "      <td>100000.0</td>\n",
       "      <td>0.0</td>\n",
       "      <td>99800.0</td>\n",
       "      <td>4800.0</td>\n",
       "      <td>0.0</td>\n",
       "      <td>100000.0</td>\n",
       "    </tr>\n",
       "  </tbody>\n",
       "</table>\n",
       "</div>"
      ],
      "text/plain": [
       "                     sensor                  Clock R_Voltage Y_Voltage  \\\n",
       "0   634e7c43038801.39310596  2024-01-10 00:00:00.0    6662.0    6688.0   \n",
       "1  634e7c43038801.000000000  2024-01-10 00:00:00.0    6662.0    6688.0   \n",
       "2   634e7c43038801.11111111  2024-01-10 00:00:00.0    6662.0    6688.0   \n",
       "3   634e7c43038801.39310596  2024-01-10 00:00:00.0    6662.0    6688.0   \n",
       "\n",
       "  B_Voltage R_Current Y_Current          B_Current        A BlockEnergy-WhExp  \\\n",
       "0    6638.0      10.3     10.57  9.200000000000001  99900.0               0.0   \n",
       "1    6638.0      10.3     10.57  9.200000000000001  99900.0               0.0   \n",
       "2    6638.0      10.3     10.57  9.200000000000001  99900.0               0.0   \n",
       "3    6638.0      10.3     10.57  9.200000000000001  99900.0               0.0   \n",
       "\n",
       "         B    C         D BlockEnergy-VAhExp      Kwh BlockEnergy-VArhQ1  \\\n",
       "0  99900.0  0.0  100000.0                0.0  99800.0             4800.0   \n",
       "1  99900.0  0.0  100000.0                0.0  99800.0             4800.0   \n",
       "2  99900.0  0.0  100000.0                0.0  99800.0             4800.0   \n",
       "3  99900.0  0.0  100000.0                0.0  99800.0             4800.0   \n",
       "\n",
       "  BlockEnergy-VArhQ4 BlockEnergy-VAhImp  \n",
       "0                0.0           100000.0  \n",
       "1                0.0           100000.0  \n",
       "2                0.0           100000.0  \n",
       "3                0.0           100000.0  "
      ]
     },
     "execution_count": 86,
     "metadata": {},
     "output_type": "execute_result"
    }
   ],
   "source": [
    "df.tail()"
   ]
  },
  {
   "cell_type": "code",
   "execution_count": null,
   "id": "88988d68-a4b0-4f03-a967-1ab624ede9c8",
   "metadata": {},
   "outputs": [],
   "source": []
  },
  {
   "cell_type": "code",
   "execution_count": null,
   "id": "65640c79-1c22-43d9-bdd2-7fe2ec6e3e21",
   "metadata": {},
   "outputs": [],
   "source": []
  }
 ],
 "metadata": {
  "kernelspec": {
   "display_name": "Python 3 (ipykernel)",
   "language": "python",
   "name": "python3"
  },
  "language_info": {
   "codemirror_mode": {
    "name": "ipython",
    "version": 3
   },
   "file_extension": ".py",
   "mimetype": "text/x-python",
   "name": "python",
   "nbconvert_exporter": "python",
   "pygments_lexer": "ipython3",
   "version": "3.11.1"
  }
 },
 "nbformat": 4,
 "nbformat_minor": 5
}
